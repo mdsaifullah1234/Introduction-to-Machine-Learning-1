{
 "cells": [
  {
   "cell_type": "markdown",
   "metadata": {},
   "source": [
    "Q1: Explain the following with an example:\n",
    "1. Artificial Intelligence\n",
    "2. Machine Learning\n",
    "3. Deep Learning"
   ]
  },
  {
   "cell_type": "markdown",
   "metadata": {},
   "source": [
    "ANS =  Artificial Intelligence (AI): AI refers to the development of computer systems capable of performing tasks that typically require human intelligence. Example: Self-driving cars use AI algorithms to navigate roads and make decisions based on sensor inputs.\n",
    "Machine Learning (ML): ML is a subset of AI that focuses on developing algorithms that can learn from data to make predictions or decisions without being explicitly programmed. Example: Email spam filters learn from labeled examples to classify emails as spam or not spam.\n",
    "Deep Learning (DL): DL is a subset of ML that uses artificial neural networks with multiple layers to learn complex patterns from large amounts of data. Example: Deep learning models are used in image recognition tasks such as identifying objects in photographs."
   ]
  },
  {
   "cell_type": "markdown",
   "metadata": {},
   "source": [
    "Q2: What is supervised learning? List some examples of supervised learning."
   ]
  },
  {
   "cell_type": "markdown",
   "metadata": {},
   "source": [
    "ANS =   Supervised learning involves training a model on labeled data, where the algorithm learns to map input data to the correct output based on example input-output pairs. Examples: Linear Regression, Decision Trees, Support Vector Machines (SVM), Neural Networks.\n",
    "\n"
   ]
  },
  {
   "cell_type": "markdown",
   "metadata": {},
   "source": [
    "Q3: What is unsupervised learning? List some examples of unsupervised learning."
   ]
  },
  {
   "cell_type": "markdown",
   "metadata": {},
   "source": [
    "ANS  =  Unsupervised learning involves training a model on unlabeled data, where the algorithm learns to find patterns or intrinsic structures in the data without explicit supervision. Examples: K-means Clustering, Hierarchical Clustering, Principal Component Analysis (PCA).\n",
    "\n"
   ]
  },
  {
   "cell_type": "markdown",
   "metadata": {},
   "source": [
    "Q4: What is the difference between AI, ML, DL, and DS?"
   ]
  },
  {
   "cell_type": "markdown",
   "metadata": {},
   "source": [
    "ANS  =  AI is the broader field encompassing the development of intelligent machines. ML is a subset of AI, focusing on algorithms that learn from data. DL is a subset of ML, involving deep neural networks with many layers. DS involves extracting insights and knowledge from data using various techniques, including ML and DL."
   ]
  },
  {
   "cell_type": "markdown",
   "metadata": {},
   "source": [
    "Q5: What are the main differences between supervised, unsupervised, and semi-supervised learning?"
   ]
  },
  {
   "cell_type": "markdown",
   "metadata": {},
   "source": [
    "ANS  =  Supervised learning uses labeled data for training, unsupervised learning uses unlabeled data, and semi-supervised learning combines labeled and unlabeled data for training. The main differences lie in the type of data used for training and the learning objectives."
   ]
  },
  {
   "cell_type": "markdown",
   "metadata": {},
   "source": [
    "Q6: What is train, test and validation split? Explain the importance of each term."
   ]
  },
  {
   "cell_type": "markdown",
   "metadata": {},
   "source": [
    "ANS =  Train-test-validation split involves dividing a dataset into three subsets: training data used to train the model, test data used to evaluate model performance, and validation data used to fine-tune model hyperparameters. The split helps assess model generalization and prevents overfitting."
   ]
  },
  {
   "cell_type": "markdown",
   "metadata": {},
   "source": [
    "Q7: How can unsupervised learning be used in anomaly detection?"
   ]
  },
  {
   "cell_type": "markdown",
   "metadata": {},
   "source": [
    "ANS =  Unsupervised learning can be used in anomaly detection by identifying data points that deviate significantly from the norm or cluster of data points. Anomalies are detected based on their deviation from the majority of data points, which do not require labeled examples.\n",
    "\n"
   ]
  },
  {
   "cell_type": "markdown",
   "metadata": {},
   "source": [
    "Q8: List down some commonly used supervised learning algorithms and unsupervised learning algorithms."
   ]
  },
  {
   "cell_type": "markdown",
   "metadata": {},
   "source": [
    "ANS =  Commonly used supervised learning algorithms include Linear Regression, Logistic Regression, Decision Trees, Random Forests, Support Vector Machines (SVM), and Neural Networks. Commonly used unsupervised learning algorithms include K-means Clustering, Hierarchical Clustering, Principal Component Analysis (PCA), and Association Rule Learning."
   ]
  }
 ],
 "metadata": {
  "language_info": {
   "name": "python"
  }
 },
 "nbformat": 4,
 "nbformat_minor": 2
}
